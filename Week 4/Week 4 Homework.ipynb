{
 "cells": [
  {
   "cell_type": "markdown",
   "metadata": {},
   "source": [
    "### Questions\n",
    "\n",
    "1. What does one need to do to use a module?\n",
    "\n",
    "    -You need to import the module/library that you need with the \"import\" function.\n",
    "\n",
    "2. Name a Module (not the DateTime Nodule) we looked at and write a line or 2 of code as an example using this module.\n",
    "\n",
    "    -Random\n",
    "    - import random as rm\n",
    "        x = rm.random()\n",
    "        print(x)\n",
    "\n",
    "3. What is a benefit of using Exception handling?\n",
    "\n",
    "    - It allows the user to fix the error without the whole program crashing.\n",
    "\n",
    "4. What are the 4 components used for Python Exception Handling?\n",
    "\n",
    "    -Try, Except, Else, Finally\n",
    "\n",
    "5. NumPy arrays are like what Python data type?\n",
    "\n",
    "    - Lists\n",
    "\n",
    "6. What is one of the main benefits of using NumPy arrays.\n",
    "\n",
    "    - Much faster\n",
    "\n",
    "7. What is one of the main requirements about the 'dtype' of NumPy arrays?\n",
    "\n",
    "    - Specify the data type\n",
    "\n",
    "8. Of the 10 uses of NumPy, name 2.\n",
    "\n",
    "    - Linear Algebra, and Searching, sorting, and counting\n",
    "\n",
    "9. Name one of the other libraries we'll use with NumPy?\n",
    "\n",
    "    - Pandas\n",
    "\n",
    "10. What is the shape of NumPy arrays?\n",
    "\n",
    "    - Tuple\n",
    "\n",
    "11. What is a Tensor?\n",
    "\n",
    "    - An array with 3+ dimensions\n",
    "\n",
    "12. Name a reason why it's better using NumPy for Data Analysis than using a Python List?\n",
    "\n",
    "    - It is much faster than lists\n",
    "\n",
    "13. When creating an \"empty\" array, where do the elements come from?\n",
    "\n",
    "    - It is random and depends on the state of the memory."
   ]
  },
  {
   "cell_type": "markdown",
   "metadata": {},
   "source": [
    "### Flow Control Method Questions"
   ]
  },
  {
   "cell_type": "code",
   "execution_count": 11,
   "metadata": {},
   "outputs": [
    {
     "name": "stdout",
     "output_type": "stream",
     "text": [
      "Renting a car is more affordable\n"
     ]
    }
   ],
   "source": [
    "# 1) Create an if statement: if 'age' is greater than or equal to 25, print \"Renting a car is more affordable\", however if 'age' is less than 25, print \"Renting a car is very expensive.\"\n",
    "\n",
    "age = 25\n",
    "\n",
    "if age >= 25:\n",
    "    print(\"Renting a car is more affordable\")\n",
    "else:\n",
    "    print(\"Renting a car is very expensive\")"
   ]
  },
  {
   "cell_type": "code",
   "execution_count": 17,
   "metadata": {},
   "outputs": [
    {
     "name": "stdout",
     "output_type": "stream",
     "text": [
      "Renting a car is very expensive\n"
     ]
    }
   ],
   "source": [
    "# 2) Create and chain an if-else statement: if 'age' is greater than or equal to 25, print \"Renting a car is more affordable.\" If 'age' is less than 25 but greater than or equal to 18, print \"Renting a car is very expensive.\" Finally, if age is less than 18, print \"You cannot legally rent a car.\"\n",
    "\n",
    "age = 18\n",
    "\n",
    "if age >= 25:\n",
    "    print(\"Renting a car is more affordable\")\n",
    "elif age < 25 and age >= 18:\n",
    "    print(\"Renting a car is very expensive\")\n",
    "elif age < 18:\n",
    "    print(\"You cannot legally rent a car\")"
   ]
  },
  {
   "cell_type": "code",
   "execution_count": 4,
   "metadata": {},
   "outputs": [
    {
     "name": "stdout",
     "output_type": "stream",
     "text": [
      "43\n",
      "e u i o o u o e e a o "
     ]
    }
   ],
   "source": [
    "# 3) Loop over the following string to (1) count all the characters in the string and (2) print out all the vowels -- \"The quick brown fox jumps over the lazy dog\"\n",
    "\n",
    "string = \"The quick brown fox jumps over the lazy dog\"\n",
    "count1 = len(string)\n",
    "vowels = [\"a\", \"e\", \"i\", \"o\", \"u\"]\n",
    "count = 0\n",
    "print(count1)\n",
    "for vowel in string:\n",
    "        if vowel in vowels:\n",
    "                print(vowel, end = \" \")\n",
    "\n"
   ]
  },
  {
   "cell_type": "code",
   "execution_count": 57,
   "metadata": {},
   "outputs": [
    {
     "name": "stdout",
     "output_type": "stream",
     "text": [
      "trousers burnt sienna\n",
      "trousers Dark Sapphire\n",
      "trousers maple\n",
      "trousers aqua\n",
      "trousers gunmetal blue\n",
      "trousers auburn\n",
      "trousers fuchsia\n",
      "trousers cerise\n",
      "blouse burnt sienna\n",
      "blouse Dark Sapphire\n",
      "blouse maple\n",
      "blouse aqua\n",
      "blouse gunmetal blue\n",
      "blouse auburn\n",
      "blouse fuchsia\n",
      "blouse cerise\n",
      "bandana burnt sienna\n",
      "bandana Dark Sapphire\n",
      "bandana maple\n",
      "bandana aqua\n",
      "bandana gunmetal blue\n",
      "bandana auburn\n",
      "bandana fuchsia\n",
      "bandana cerise\n",
      "cumber band burnt sienna\n",
      "cumber band Dark Sapphire\n",
      "cumber band maple\n",
      "cumber band aqua\n",
      "cumber band gunmetal blue\n",
      "cumber band auburn\n",
      "cumber band fuchsia\n",
      "cumber band cerise\n",
      "blazer burnt sienna\n",
      "blazer Dark Sapphire\n",
      "blazer maple\n",
      "blazer aqua\n",
      "blazer gunmetal blue\n",
      "blazer auburn\n",
      "blazer fuchsia\n",
      "blazer cerise\n",
      "vest burnt sienna\n",
      "vest Dark Sapphire\n",
      "vest maple\n",
      "vest aqua\n",
      "vest gunmetal blue\n",
      "vest auburn\n",
      "vest fuchsia\n",
      "vest cerise\n",
      "french beret burnt sienna\n",
      "french beret Dark Sapphire\n",
      "french beret maple\n",
      "french beret aqua\n",
      "french beret gunmetal blue\n",
      "french beret auburn\n",
      "french beret fuchsia\n",
      "french beret cerise\n",
      "scarf burnt sienna\n",
      "scarf Dark Sapphire\n",
      "scarf maple\n",
      "scarf aqua\n",
      "scarf gunmetal blue\n",
      "scarf auburn\n",
      "scarf fuchsia\n",
      "scarf cerise\n",
      "stole burnt sienna\n",
      "stole Dark Sapphire\n",
      "stole maple\n",
      "stole aqua\n",
      "stole gunmetal blue\n",
      "stole auburn\n",
      "stole fuchsia\n",
      "stole cerise\n"
     ]
    }
   ],
   "source": [
    "# 4) Write a nested loop that prints out every piece of clothing from the couture list, in every fashionable color from the panettone set.\n",
    "\n",
    "couture = [\"trousers\", \"blouse\", \"bandana\", \"cumber band\", \"blazer\", \"vest\", \"french beret\", \"scarf\", \"stole\"]\n",
    "panettone = {\"cerise\", \"fuchsia\", \"aqua\", \"maple\", \"auburn\", \"burnt sienna\", \"gunmetal blue\", \"Dark Sapphire\"}\n",
    "\n",
    "for clothing in couture:\n",
    "    for color in panettone:\n",
    "        print(clothing, color)\n"
   ]
  },
  {
   "cell_type": "code",
   "execution_count": 9,
   "metadata": {},
   "outputs": [
    {
     "name": "stdout",
     "output_type": "stream",
     "text": [
      "4950\n"
     ]
    }
   ],
   "source": [
    "# 5) Use range as a loop to calculate the sum of all the numbers from 1 to 100\n",
    "\n",
    "sum = 0\n",
    "for i in range(1, 100):\n",
    "    sum += int(i)\n",
    "print(sum)"
   ]
  },
  {
   "cell_type": "code",
   "execution_count": 69,
   "metadata": {},
   "outputs": [
    {
     "name": "stdout",
     "output_type": "stream",
     "text": [
      "banana\n"
     ]
    }
   ],
   "source": [
    "# 6) Print the second item in this fruits list. [\"apple\", \"banana\", \"cherry\"]\n",
    "\n",
    "list = [\"apple\", \"banana\", \"cherry\"]\n",
    "\n",
    "print(list[1])"
   ]
  },
  {
   "cell_type": "code",
   "execution_count": 71,
   "metadata": {},
   "outputs": [
    {
     "name": "stdout",
     "output_type": "stream",
     "text": [
      "['kiwi', 'banana', 'cherry']\n"
     ]
    }
   ],
   "source": [
    "# 7) Change the value from \"apple\" to \"kiwi\", in the fruits list. [\"apple\", \"banana\", \"cherry\"]\n",
    "\n",
    "fruits = [\"apple\", \"banana\", \"cherry\"]\n",
    "fruits[0] = \"kiwi\"\n",
    "print(fruits)\n"
   ]
  },
  {
   "cell_type": "code",
   "execution_count": 73,
   "metadata": {},
   "outputs": [
    {
     "name": "stdout",
     "output_type": "stream",
     "text": [
      "['apple', 'banana', 'cherry', 'orange']\n"
     ]
    }
   ],
   "source": [
    "# 8) Use the append method to add \"orange\" to the fruits list. [\"apple\", \"banana\", \"cherry\"]\n",
    "\n",
    "fruits = [\"apple\", \"banana\", \"cherry\"]\n",
    "fruits.append(\"orange\")\n",
    "print(fruits)"
   ]
  },
  {
   "cell_type": "code",
   "execution_count": 78,
   "metadata": {},
   "outputs": [
    {
     "name": "stdout",
     "output_type": "stream",
     "text": [
      "['apple', 'lemon', 'banana', 'cherry']\n"
     ]
    }
   ],
   "source": [
    "# 9) Use the insert method to add \"lemon\" as the second item in the fruits list. [\"apple\", \"banana\", \"cherry\"]\n",
    "\n",
    "fruits = [\"apple\", \"banana\", \"cherry\"]\n",
    "fruits.insert(1, \"lemon\")\n",
    "print(fruits)"
   ]
  },
  {
   "cell_type": "code",
   "execution_count": 79,
   "metadata": {},
   "outputs": [
    {
     "name": "stdout",
     "output_type": "stream",
     "text": [
      "['apple', 'cherry']\n"
     ]
    }
   ],
   "source": [
    "# 10) Use the remove method to remove \"banana\" from the fruits list. [\"apple\", \"banana\", \"cherry\"]\n",
    "\n",
    "fruits = [\"apple\", \"banana\", \"cherry\"]\n",
    "fruits.remove(\"banana\")\n",
    "print(fruits)"
   ]
  },
  {
   "cell_type": "code",
   "execution_count": 82,
   "metadata": {},
   "outputs": [
    {
     "name": "stdout",
     "output_type": "stream",
     "text": [
      "kiwi\n",
      "melon\n"
     ]
    }
   ],
   "source": [
    "# 11) Use negative indexing to print the 3rd and 2nd to last items in the list. [\"apple\", \"banana\", \"cherry\", \"orange\", \"kiwi\", \"melon\", \"mango\"]\n",
    "\n",
    "list = [\"apple\", \"banana\", \"cherry\", \"orange\", \"kiwi\", \"melon\", \"mango\"]\n",
    "\n",
    "print(list[-3])\n",
    "print(list[-2])"
   ]
  },
  {
   "cell_type": "code",
   "execution_count": 88,
   "metadata": {},
   "outputs": [
    {
     "name": "stdout",
     "output_type": "stream",
     "text": [
      "['cherry', 'orange', 'kiwi']\n"
     ]
    }
   ],
   "source": [
    "# 12) Use a range of indexes to print the third, fourth, and fifth item in the list. [\"apple\", \"banana\", \"cherry\", \"orange\", \"kiwi\", \"melon\", \"mango\"]\n",
    "\n",
    "list = [\"apple\", \"banana\", \"cherry\", \"orange\", \"kiwi\", \"melon\", \"mango\"]\n",
    "print(list[2:5])"
   ]
  },
  {
   "cell_type": "code",
   "execution_count": 84,
   "metadata": {},
   "outputs": [
    {
     "name": "stdout",
     "output_type": "stream",
     "text": [
      "7\n"
     ]
    }
   ],
   "source": [
    "# 13) Use the correct syntax to print the number of items in the list. [\"apple\", \"banana\", \"cherry\", \"orange\", \"kiwi\", \"melon\", \"mango\"]\n",
    "\n",
    "list = [\"apple\", \"banana\", \"cherry\", \"orange\", \"kiwi\", \"melon\", \"mango\"]\n",
    "length = len(list)\n",
    "print(length)"
   ]
  },
  {
   "cell_type": "code",
   "execution_count": 86,
   "metadata": {},
   "outputs": [
    {
     "name": "stdout",
     "output_type": "stream",
     "text": [
      "['orange', 'melon', 'mango', 'kiwi', 'cherry', 'banana', 'apple']\n"
     ]
    }
   ],
   "source": [
    "# 14) Use the correct syntax to sort this list in reverse order [\"apple\", \"banana\", \"cherry\", \"orange\", \"kiwi\", \"melon\", \"mango\"]\n",
    "\n",
    "list = [\"apple\", \"banana\", \"cherry\", \"orange\", \"kiwi\", \"melon\", \"mango\"]\n",
    "\n",
    "list.sort(reverse=True)\n",
    "\n",
    "print(list)"
   ]
  },
  {
   "cell_type": "code",
   "execution_count": 1,
   "metadata": {},
   "outputs": [
    {
     "name": "stdout",
     "output_type": "stream",
     "text": [
      "October\n"
     ]
    }
   ],
   "source": [
    "# 15) Use the DateTime module to get Current Date and Time, and save it to a variable. Then extract just the Full month name form that variable.\n",
    "\n",
    "import datetime\n",
    "\n",
    "month = datetime.datetime.now()\n",
    "print(month.strftime(\"%B\"))\n"
   ]
  },
  {
   "cell_type": "code",
   "execution_count": 7,
   "metadata": {},
   "outputs": [
    {
     "name": "stdout",
     "output_type": "stream",
     "text": [
      "Hi  Daniel ! Happy Sunday !\n",
      "Hi  Daniel ! Happy Sunday !\n"
     ]
    }
   ],
   "source": [
    "# 16) Write a simple function that takes 2 parameters -- a first name and a day name.\n",
    "        # Set a default value for the day name of Sunday.\n",
    "        # Have the function print out a greeting -- using the parameters -- that says something like \"Hi first-name! Happy day-name!\". Remember to use the variables in the greeting to replace first-name and day-name.\n",
    "        # Invoke this function with 2 variables.\n",
    "        # Invoke this function with 1 variable only.\n",
    "\n",
    "def greeting(name, day = 'Sunday'):\n",
    "    print('Hi ', name, '!', 'Happy', day, '!', )\n",
    "\n",
    "greeting('Daniel', day='Sunday')\n",
    "greeting('Daniel')\n",
    "\n"
   ]
  },
  {
   "cell_type": "code",
   "execution_count": 16,
   "metadata": {},
   "outputs": [
    {
     "name": "stdout",
     "output_type": "stream",
     "text": [
      "Something went wrong\n",
      "The 'try except' is finished\n"
     ]
    }
   ],
   "source": [
    "# 17) Write a block of code to handle one of the most common Python exception errors. Select one of the common errors from the curriculum section on Python Exception handling. Have your code example uses the try,except, else, and finally components.\n",
    "\n",
    "try:\n",
    "    print(x)\n",
    "except NameError:\n",
    "    print(\"Something went wrong\")\n",
    "else:\n",
    "    print(\"Nothing went wrong\")\n",
    "finally:\n",
    "    print(\"The 'try except' is finished\")"
   ]
  }
 ],
 "metadata": {
  "kernelspec": {
   "display_name": "Python 3",
   "language": "python",
   "name": "python3"
  },
  "language_info": {
   "codemirror_mode": {
    "name": "ipython",
    "version": 3
   },
   "file_extension": ".py",
   "mimetype": "text/x-python",
   "name": "python",
   "nbconvert_exporter": "python",
   "pygments_lexer": "ipython3",
   "version": "3.11.5"
  }
 },
 "nbformat": 4,
 "nbformat_minor": 2
}
