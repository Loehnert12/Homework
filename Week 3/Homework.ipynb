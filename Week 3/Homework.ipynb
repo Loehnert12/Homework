{
 "cells": [
  {
   "cell_type": "markdown",
   "metadata": {},
   "source": [
    "# Python Homework Week 3 Daniel Loehnert\n",
    "\n",
    "1. What is an algorithm?\n",
    "    - A set of instructions to complete a specific task.\n",
    "2. Variable names may not start with certain characters - name two.\n",
    "    - Variables cannot start with a number or a hash tag sign.\n",
    "3. What is a Semantic error?\n",
    "    - When you have incorrect placement or signs to where the wrong output will be displayed or not at all.\n",
    "4. What is the #1 rule of coding / debugging?\n",
    "    - Complexity is the enemy of efficiency.\n",
    "5. List 5 Python reserved words.\n",
    "    - True, False, elif, break, none.\n"
   ]
  },
  {
   "cell_type": "code",
   "execution_count": null,
   "metadata": {},
   "outputs": [],
   "source": [
    "# Question 6, Write a multi-line comment with your name, favorite food, and dream job on 3 different lines\n",
    "'''\n",
    "My name is Daniel Loehnert\n",
    "My favorite food is probably a really good steak.\n",
    "My dream job is to be a senior level data analyst.\n",
    "\n",
    "'''"
   ]
  },
  {
   "cell_type": "code",
   "execution_count": 5,
   "metadata": {},
   "outputs": [
    {
     "name": "stdout",
     "output_type": "stream",
     "text": [
      "10\n",
      "e\n"
     ]
    }
   ],
   "source": [
    "# Question 7, Assign 5 different data types to 5 different variables. At least one datatype must be a string\n",
    "String = \"Greetings!\"\n",
    "Float = 12.5\n",
    "MyList = ['Chocolate', 'Vanilla', 'Peanut butter' ]\n",
    "Int = 12\n",
    "Bool = True\n",
    "\n",
    "# Print the length of your string\n",
    "print(len(String))\n",
    "\n",
    "# Print the index value of the 4th character in your string\n",
    "print(String[3])"
   ]
  },
  {
   "cell_type": "code",
   "execution_count": 6,
   "metadata": {},
   "outputs": [
    {
     "name": "stdout",
     "output_type": "stream",
     "text": [
      "ing Data Analytics\n",
      "Learning Data Analytics and Python is Great!\n",
      "True\n"
     ]
    }
   ],
   "source": [
    "# Question 8, Create a new variable called savvy, and assign it the string with this phrase \"Learning Data Analytics and Python is Awesome!\"\n",
    "savvy = \"Learning Data Analytics and Python is Awesome!\"\n",
    "\n",
    "#  Return a range of characters that slices the above string from the beginning of \"ing\" up to before \"and\"\n",
    "print(savvy[5:23])\n",
    "\n",
    "# Replace \"Awesome\" with \"great\" in the string\n",
    "savvy2 = savvy.replace(\"Awesome\", \"Great\")\n",
    "print(savvy2)\n",
    "\n",
    "# Test and print the savvy string to see it contains \"Python\"\n",
    "if \"Python\" in savvy:\n",
    "    print(True)"
   ]
  },
  {
   "cell_type": "code",
   "execution_count": 3,
   "metadata": {},
   "outputs": [
    {
     "name": "stdout",
     "output_type": "stream",
     "text": [
      "Hi my name is Daniel, I am 73 inches tall, and 27 old today.\n",
      "27.0\n"
     ]
    }
   ],
   "source": [
    "# Question 9, Create and assign 3 more variables called name, age and length using the multi-variable naming method.\n",
    "name, age, length = \"Daniel\", 27, 73\n",
    "\n",
    "# Format a new string called 'miniBio' using variables in curly brackets to complete this phrase... \"Hi my name is (name), I am (tall) and (so) old today.\"\n",
    "miniBio = (f\"Hi my name is {name}, I am {length} inches tall, and {age} old today.\")\n",
    "\n",
    "# Print miniBio\n",
    "print(miniBio)\n",
    "\n",
    "# Cast and print the age variable to a float\n",
    "print(float(age))"
   ]
  },
  {
   "cell_type": "code",
   "execution_count": 4,
   "metadata": {},
   "outputs": [
    {
     "name": "stdout",
     "output_type": "stream",
     "text": [
      "['Apartment', 12, 12.5, ['car', 'plane', 'boat'], True]\n",
      "['House', 12, 12.5, ['car', 'plane', 'boat'], True, 'Submarine', 'Stadium', 'Condo']\n",
      "8\n",
      "[['car', 'plane', 'boat']]\n",
      "['House', 12, 12.5, ['car', 'plane', 'boat'], True, 'Submarine', 'Stadium', 'Condo', ['car', 'plane', 'boat']]\n",
      "['Bike', 'Boat', 'Car', 'Plane', 'Skateboard']\n",
      "['Bike', 'Boat', 'Car', 'Plane', 'Skateboard']\n",
      "[['car', 'plane', 'boat'], 'Bike', 'Boat', 'Car', 'Plane', 'Skateboard']\n"
     ]
    }
   ],
   "source": [
    "# Question 10, Create a list of at least 5 elements of mixed data types\n",
    "List = [\"House\", 12, 12.5, [\"car\", \"plane\", \"boat\"], True]\n",
    "\n",
    "# Replace a part of it with something else\n",
    "List[0] = \"Apartment\"\n",
    "print(List)\n",
    "\n",
    "# Append or insert several more items to the list\n",
    "List = [\"House\", 12, 12.5, [\"car\", \"plane\", \"boat\"], True]\n",
    "List.append(\"Submarine\")\n",
    "List.append(\"Stadium\")\n",
    "List.append(\"Condo\")\n",
    "print(List)\n",
    "\n",
    "# Find and print the length of the list\n",
    "print(len(List))\n",
    "\n",
    "# Slice a sub-section of the 1st list, and save it to a different 2nd list\n",
    "List2 = List[3:4].copy()\n",
    "\n",
    "# Print the 2nd list\n",
    "print(List2)\n",
    "\n",
    "# Extend your original list with the 2nd list sliced above\n",
    "List.extend(List2)\n",
    "print(List)\n",
    "\n",
    "# Create a new list called \"simList\" containing at least 5 elements of the same data type, either string, integer, float, or Boolean\n",
    "simList = [\"Car\", \"Boat\", \"Bike\", \"Skateboard\", \"Plane\"]\n",
    "\n",
    "# Sort \"simList\", and print the list\n",
    "simList.sort()\n",
    "print(simList)\n",
    "\n",
    "# Copy the \"simList\" list to another 3rd list\n",
    "List3 = simList.copy()\n",
    "print(List3)\n",
    "\n",
    "# Add the 2nd and 3rd lists together into a 4th list\n",
    "List4 = List2 + simList\n",
    "print(List4)"
   ]
  },
  {
   "cell_type": "code",
   "execution_count": 8,
   "metadata": {},
   "outputs": [
    {
     "name": "stdout",
     "output_type": "stream",
     "text": [
      "('Car', 'Bike', 'Plane', 'Boat', 'Train', 'Car', 'Bike', 'Plane', 'Boat', 'Train', 'Car', 'Bike', 'Plane', 'Boat', 'Train')\n",
      "Bike\n",
      "['Bike', 'Bike', 'Bike', 'Boat', 'Boat', 'Boat', 'Car', 'Car', 'Car', 'Plane', 'Plane', 'Plane', 'Train', 'Train', 'Train']\n",
      "('Car', 'Bike', 'Plane', 'Boat')\n",
      "Car\n",
      "Bike\n",
      "Plane\n",
      "Boat\n",
      "(50,)\n",
      "('Car', 'Bike', 'Plane', 'Boat', 'Train', 'Car', 'Bike', 'Plane', 'Boat', 'Train', 'Car', 'Bike', 'Plane', 'Boat', 'Train', 'Car', 'Bike', 'Plane', 'Boat')\n"
     ]
    }
   ],
   "source": [
    "# Question 11, Create a tuple of about 5 elements\n",
    "tup1 = 'Car', 'Bike', 'Plane', 'Boat', 'Train'\n",
    "\n",
    "# Multiply your tuple by 3 and save it to a new 2nd tuple\n",
    "tup2 = tup1 * 3\n",
    "print(tup2)\n",
    "\n",
    "# Access and print the 12th element from the 2nd tuple\n",
    "print(tup2[11])\n",
    "\n",
    "# Sort the 2nd tuple and print it\n",
    "print(sorted(tup2))\n",
    "\n",
    "# Copy 4 specific elements from your 2nd tuple to a new 3nd tuple\n",
    "tup3 = tup2[0:4]\n",
    "print(tup3)\n",
    "\n",
    "# Unpack the 3rd tuple into 4 variables and print these variables\n",
    "(Red, Black, White, Green) = tup3\n",
    "print(Red)\n",
    "print(Black)\n",
    "print(White)\n",
    "print(Green)\n",
    "\n",
    "# Create a 4th tuple with single item 50 and print this tuple\n",
    "tup4 = (50,)\n",
    "print(tup4)\n",
    "\n",
    "# Add the 2nd and 3rd tuple together into a 5th tuple and print the tuple\n",
    "tup5 = tup2 + tup3\n",
    "print(tup5)"
   ]
  },
  {
   "cell_type": "code",
   "execution_count": 13,
   "metadata": {},
   "outputs": [
    {
     "name": "stdout",
     "output_type": "stream",
     "text": [
      "{'Desk', 'Computer', 'Apple', 'Chair', 'Grapes', 'Oranges'}\n",
      "{'Desk', 'Computer', 'Apple', 'Chair', 'Car', 'Grapes', 'Oranges'}\n",
      "{'Sky', 'Chair', 'Grass', 'Desk', 'Computer', 'Apple', 'Car', 'Ball', 'Grapes', 'Oranges'}\n",
      "{'Ball', 'Grass'}\n",
      "set()\n",
      "{'Sky', 'Chair', 'Grass', 'Desk', 'Apple', 'Ball', 'Grapes', 'Oranges'}\n"
     ]
    }
   ],
   "source": [
    "# Question 12, Create a set of about 3 elements\n",
    "Set1 = {\"Desk\", \"Computer\", \"Chair\"}\n",
    "\n",
    "# Add a list of fruits to the above set and print the result\n",
    "FruitList = {\"Apple\", \"Oranges\", \"Grapes\"}\n",
    "Set1.update(FruitList)\n",
    "print(Set1)\n",
    "\n",
    "\n",
    "# Add a car element to your set\n",
    "Set1.add(\"Car\")\n",
    "print(Set1)\n",
    "\n",
    "# Create a 2nd set with a few odd items\n",
    "Set2 = {\"Ball\", \"Sky\", \"Grass\"}\n",
    "\n",
    "# Save the union of 1st set and 2nd set to a 3rd set\n",
    "Set3 = Set1.union(Set2)\n",
    "print(Set3)\n",
    "\n",
    "# Pop an element from the 2nd set, and print the remainder of the set\n",
    "Set2.pop()\n",
    "print(Set2)\n",
    "\n",
    "# Clear the 1st set and print the result\n",
    "Set1.clear()\n",
    "print(Set1)\n",
    "\n",
    "# Discard an element, and remove another element from the 3rd set\n",
    "Set3.discard(\"Computer\")\n",
    "Set3.remove(\"Car\")\n",
    "\n",
    "# Print the remainder of the 3rd set\n",
    "print(Set3)"
   ]
  },
  {
   "cell_type": "code",
   "execution_count": 7,
   "metadata": {},
   "outputs": [
    {
     "name": "stdout",
     "output_type": "stream",
     "text": [
      "Subaru\n",
      "{'Brand': 'Daniel', 'Model': 'WRX', 'Year': 2022, 'Color': 'Red', 'Miles': '16,000'}\n",
      "{'Brand': 'Daniel', 'Model': 'WRX', 'Year': 2022, 'Color': 'Red', 'Miles': '16,000', 'Favorite Color': 'Blue'}\n",
      "{'Brand': 'Daniel', 'Model': 'WRX', 'Year': 2022, 'Color': 'Red', 'Miles': '16,000', 'Favorite Color': 'Blue', 'Animals': {'Cat', 'Dog', 'Bunny'}}\n",
      "dict_keys(['Brand', 'Model', 'Year', 'Color', 'Miles', 'Favorite Color', 'Animals'])\n",
      "dict_values(['Daniel', 'WRX', 2022, 'Red', '16,000', 'Blue', {'Cat', 'Dog', 'Bunny'}])\n",
      "{'Brand': 'Daniel', 'Model': 'WRX', 'Year': 2022, 'Color': 'Red', 'Miles': '16,000', 'Favorite Color': 'Blue', 'Animals': {'Cat', 'Dog', 'Bunny'}}\n",
      "{'Model': 'WRX', 'Year': 2022, 'Color': 'Red', 'Miles': '16,000', 'Favorite Color': 'Blue', 'Animals': {'Cat', 'Dog', 'Bunny'}}\n",
      "{}\n"
     ]
    }
   ],
   "source": [
    "# Question 13, Create a dictionary with at least 5 values of different data types\n",
    "Dict = {\n",
    "    \"Brand\" : \"Subaru\",\n",
    "    \"Model\" : \"WRX\",\n",
    "    \"Year\" : 2022,\n",
    "    \"Color\" : \"Red\",\n",
    "    \"Miles\" : \"16,000\"\n",
    "}\n",
    "\n",
    "# Print out 1 value\n",
    "print(Dict.get(\"Brand\"))\n",
    "\n",
    "# Replace any one value in your dictionary with your name\n",
    "Dict[\"Brand\"] = \"Daniel\"\n",
    "print(Dict)\n",
    "\n",
    "# Add your favorite color to the dictionary\n",
    "Dict[\"Favorite Color\"] = \"Blue\"\n",
    "print(Dict)\n",
    "\n",
    "# Add a list, tuple or set to your dictionary\n",
    "Dict[\"Animals\"] = {\"Dog\", \"Cat\", \"Bunny\"}\n",
    "print(Dict)\n",
    "\n",
    "# Print a list of the dictionary keys\n",
    "print(Dict.keys())\n",
    "\n",
    "# Print a list of the dictionary values\n",
    "print(Dict.values())\n",
    "\n",
    "# Copy your 1st dictionary into a 2nd dictionary\n",
    "Dict2 = Dict.copy()\n",
    "print(Dict2)\n",
    "\n",
    "# Pop an item from the 2nd dictionary, and print the dictionary\n",
    "Dict2.pop(\"Brand\")\n",
    "print(Dict2)\n",
    "\n",
    "# Remove all the elements from the 2nd dictionary and print the result\n",
    "Dict2.clear()\n",
    "print(Dict2)"
   ]
  }
 ],
 "metadata": {
  "kernelspec": {
   "display_name": "Python 3",
   "language": "python",
   "name": "python3"
  },
  "language_info": {
   "codemirror_mode": {
    "name": "ipython",
    "version": 3
   },
   "file_extension": ".py",
   "mimetype": "text/x-python",
   "name": "python",
   "nbconvert_exporter": "python",
   "pygments_lexer": "ipython3",
   "version": "3.11.5"
  }
 },
 "nbformat": 4,
 "nbformat_minor": 2
}
